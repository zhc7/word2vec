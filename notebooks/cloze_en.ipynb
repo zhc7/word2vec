{
 "cells": [
  {
   "cell_type": "markdown",
   "metadata": {},
   "source": [
    "# 英语完形填空"
   ]
  },
  {
   "cell_type": "markdown",
   "metadata": {},
   "source": [
    "## 准备工作"
   ]
  },
  {
   "cell_type": "code",
   "execution_count": 1,
   "metadata": {
    "scrolled": true
   },
   "outputs": [
    {
     "name": "stderr",
     "output_type": "stream",
     "text": [
      "Using TensorFlow backend.\n"
     ]
    },
    {
     "name": "stdout",
     "output_type": "stream",
     "text": [
      "done\n"
     ]
    }
   ],
   "source": [
    "import keras\n",
    "from keras.layers import Input, Embedding, Bidirectional, Dense, LSTM, Dropout\n",
    "from keras.models import Model, Sequential\n",
    "from keras.optimizers import Adam, SGD\n",
    "import numpy as np\n",
    "\n",
    "\n",
    "MAX_WORD = 2150000\n",
    "WORD_OUT = 4000\n",
    "print(\"done\")"
   ]
  },
  {
   "cell_type": "code",
   "execution_count": 3,
   "metadata": {},
   "outputs": [],
   "source": [
    "with open(\"../data/cloze/lexicon1.txt\", encoding=\"utf-8\") as f:\n",
    "    lexicon = f.readlines()\n",
    "with open(\"../data/cloze/db_mag.txt\") as f:\n",
    "    db_mag = f.readlines()"
   ]
  },
  {
   "cell_type": "markdown",
   "metadata": {},
   "source": [
    "#### 预处理3500词"
   ]
  },
  {
   "cell_type": "code",
   "execution_count": 5,
   "metadata": {},
   "outputs": [
    {
     "name": "stdout",
     "output_type": "stream",
     "text": [
      "3857 ['##UNK', 'abandon', 'ability', 'able', 'abnormal', 'aboard', 'abolish', 'abortion', 'about', 'above'] 4\n"
     ]
    }
   ],
   "source": [
    "with open(\"../data/cloze/3500.txt\") as f:\n",
    "    w35 = f.readlines()\n",
    "word35 = [\"##UNK\"]\n",
    "for line in w35:\n",
    "    l = line.split()\n",
    "    if len(l) < 3:\n",
    "        continue\n",
    "    word35.append(l[0])\n",
    "word35id = {w:Id for Id, w in enumerate(word35)}\n",
    "print(len(word35), word35[:10], word35id[\"abnormal\"])"
   ]
  },
  {
   "cell_type": "markdown",
   "metadata": {},
   "source": [
    "#### 预处理输入词典"
   ]
  },
  {
   "cell_type": "code",
   "execution_count": 65,
   "metadata": {},
   "outputs": [
    {
     "name": "stdout",
     "output_type": "stream",
     "text": [
      "89\n",
      "2149218 2149218\n",
      "interest corda\n"
     ]
    }
   ],
   "source": [
    "def vulcab(file):\n",
    "    id2word = [\"##UNK\"]\n",
    "    word2id = {\"##UNK\":0}\n",
    "    oldId2id = [0]\n",
    "    word2org = {\"##UNK\":\"##UNK\"}\n",
    "    oldId2word = {}\n",
    "    for i, line in enumerate(file):\n",
    "        if not line.strip():\n",
    "            break\n",
    "        word = line.split()\n",
    "        if len(word) >= 2:\n",
    "            oldId2word[int(word[0])] = word[1]\n",
    "        if len(word) != 4:\n",
    "            oldId2id.append(0)\n",
    "            continue\n",
    "        oldId, w, org, _ = word\n",
    "        w = w.lower()\n",
    "        if w in word2id:\n",
    "            oldId2id.append(word2id[w])\n",
    "            continue\n",
    "        if oldId != str(len(oldId2id)):\n",
    "            for j in range(int(oldId)-len(oldId2id)):\n",
    "                oldId2id.append(0)\n",
    "        word2id[w] = len(id2word)\n",
    "        oldId2id.append(len(id2word))\n",
    "        id2word.append(w)\n",
    "        word2org[w] = org\n",
    "    return id2word, word2id, oldId2id, word2org, oldId2word\n",
    "\n",
    "id2word, word2id, oldId2id, word2org, oldId2word = vulcab(lexicon)\n",
    "print(word2id[\"like\"])\n",
    "\n",
    "print(len(word2id), len(id2word))\n",
    "print(id2word[word2id[\"interest\"]], id2word[oldId2id[333791]])\n",
    "\n",
    "ACT_WORD_IN = len(word2id)"
   ]
  },
  {
   "cell_type": "code",
   "execution_count": 66,
   "metadata": {},
   "outputs": [
    {
     "name": "stdout",
     "output_type": "stream",
     "text": [
      "[14] 14\n"
     ]
    }
   ],
   "source": [
    "print([word2id[\"it\"]], oldId2id[54])"
   ]
  },
  {
   "cell_type": "markdown",
   "metadata": {},
   "source": [
    "#### 定义解码函数\n",
    "用于将id化的句子变为可读的句子"
   ]
  },
  {
   "cell_type": "code",
   "execution_count": 68,
   "metadata": {},
   "outputs": [],
   "source": [
    "def decode(sentence):\n",
    "    out = \"\"\n",
    "    for word in sentence:\n",
    "        if type(word) == dict:\n",
    "            out += \"\\n\" + str({oldId2word[key]+str(key): MAX_WORD-val for key, val in word.items() if key != 0})\n",
    "        elif word > ACT_WORD_IN:\n",
    "            out += \"@entity-%s\" % (MAX_WORD - word,) + \" \"\n",
    "        else:\n",
    "            out += id2word[word] + \" \"\n",
    "    return out"
   ]
  },
  {
   "cell_type": "markdown",
   "metadata": {},
   "source": [
    "#### 预处理句子"
   ]
  },
  {
   "cell_type": "code",
   "execution_count": 73,
   "metadata": {},
   "outputs": [
    {
     "name": "stdout",
     "output_type": "stream",
     "text": [
      "948\n"
     ]
    }
   ],
   "source": [
    "def preprocess(file):\n",
    "    Id = 0\n",
    "    ids = []\n",
    "    sentence = ()\n",
    "    sentences = []\n",
    "    entities = {0: MAX_WORD}  # oldId: token\n",
    "    for line in file:\n",
    "        l = line.split()\n",
    "        Id_this = l[0]\n",
    "        if Id != Id_this:\n",
    "            # 切换文章\n",
    "            sentences.append(sentence + (entities,))\n",
    "            sentence = ()\n",
    "            entities = {0: MAX_WORD}\n",
    "            Id = Id_this\n",
    "            ids.append(Id)\n",
    "        oldId = int(l[2])\n",
    "        if oldId2word[oldId] in (\"<p>\", \"//\", \"@\", \"##\"):\n",
    "            continue\n",
    "        id_ = oldId2id[oldId]\n",
    "        if id_ != 0:\n",
    "            sentence += (id_,)\n",
    "        else:\n",
    "            if oldId in entities.keys():\n",
    "                sentence += (entities[oldId], )\n",
    "            else:\n",
    "                token = min(entities.values()) - 1\n",
    "                entities[oldId] = token\n",
    "                sentence += (token, )\n",
    "    return sentences, ids\n",
    "\n",
    "\n",
    "sentences, ids = preprocess(db_mag)\n",
    "print(len(sentences))"
   ]
  },
  {
   "cell_type": "code",
   "execution_count": 25,
   "metadata": {},
   "outputs": [
    {
     "name": "stdout",
     "output_type": "stream",
     "text": [
      "11756\n",
      "1652.714135021097\n"
     ]
    }
   ],
   "source": [
    "a = [len(sentences[i]) for i in range(948)]\n",
    "print(max(a))\n",
    "print(sum(a)/948)"
   ]
  },
  {
   "cell_type": "code",
   "execution_count": 72,
   "metadata": {
    "scrolled": false
   },
   "outputs": [
    {
     "name": "stdout",
     "output_type": "stream",
     "text": [
      "@entity-1 it was the spring of 1993 and the country 's conservative leaders knew they needed a clever strategy to win back the white house . the lynde and harry bradley foundation , which gives about $20 million a year , largely to right-wing causes , had put william kristol , a prominent republican strategist , in charge of plotting a future for the conservative movement . the republicans ' family values mantra had failed to win the presidency , and now they needed a new vocabulary to talk about social issues . the architect of dan quayle 's family values message , kristol managed to attract a host of top-level \" profamily \" activists to a closed-door meeting held in a washington , d.c. , hotel . a lot of money was riding on this meeting . the outcome would help the bradley foundation decide how to invest its vast resources in support of the conservative cause . at about the same time , john spearing was fast becoming one of colorado 's most disgruntled parents . spearing , a district manager for burger king and president of the pueblo , colorado , school board , had been my daughter went to school and reported me , \" spearing said in a recent interview , his voice still trembling with rage . \" i had yelled at her and picked her up and brought her in the other room . she told me she did n't have to listen to me anymore . \" spearing insists that he did not strike her , but the responses she gave on a districtwide self-esteem test were used against him to substantiate allegations of abuse . the charges were eventually dropped-but not forgotten . the combination of spearing 's angry talk and conservatives ' strategizing laid the groundwork for a new rightwing battlefront . economist jeffrey bell , former presidential campaign coordinator for then-representative jack kemp ( r.-n.y. ) , gave the movement a name . believing republicans could regain control of the nation 's political agenda by tapping into parents ' deep-seated dissatisfaction with the public education system , bell arrived at kristol 's washington , d.c. , meeting with a new conservative battle cry : \" parental rights . \" conveniently , bell had already set up a vehicle and several economist friends had launched of the people , a lobbying group that planned to push a parental rights amendment in all 50 states . the amendment simply states : \" the rights of parents to direct the upbringing and education of their children shall not be infringed . \" when conservative activists last year chose colorado as the site of their first full-scale campaign to net parental rights legislation on a statewide ballot , they recruited spearing . \" children need to learn how to read and write , \" he told a crowd clustered at the state capitol to kick off the ballot drive . \" they need to get off this psychological crap . \" legislators in 28 states have already introduced parental rights amendments , according to of the people . meanwhile , a parental rights and responsibilities act is wending its way through congress , with the backing of 139 members , the christian coalition , and republican presidential hopeful bob dole . proponents claim such legislation is needed because school nurses are handing out condoms , guidance counselors are advising children on personal homosexuality-all without parental permission . moreover , they claim social workers are removing children from homes because they disapprove of how their parents punish them . he right-wing movers and shakers left kristol 's 1993 meeting giddy about the prospects for this new movement . some predicted it would sweep the country . \" parents \" rights could be as significant as the 1970s taxpayer revolt , \" kristol said at the time . christian coalition executive director ralph reed told the washington times : \" i 'd put the parental rights movement today where term limitation was in 1989 and where tax reform was in 1977 . but the world inside the beltway is not paying attention , and it 's going to ret caught . \" soon after the meeting , a $125,000 check from the bradley foundation arrived at the of the people foundation . suddenly , the movement had money , a message , and influential supporters . now all it lacked was some hard evidence proving it was needed . sheila marie sumey 's story provided the \" proof . \" she was only 12 1975 . soon the tacoma , washington , teenager was smoking pot , running away from home and hitch-hiking crosscountry . police had once picked her up in indiana . washington state officials removed sumey from her home when she was in her mid-teens and placed her in a foster home . but by her eighteenth birthday , she 'd already had one miscarriage and two abortions . the moral of this story , insist parental rights advocates , is that too much government intervention can have disastrous consequences . sumey , who now lives in florida with her husband and two children , told focus on the family citizen , a magazine of the christian right , \" a lot of it could have been prevented if i was made to stay home and listen to my parents-and get the upbringing that i rightly deserved . \" parental rights proponents have recycled sumey 's story in hearings before congress , in a washington times article , and in a cautionary tale told in the christian coalition 's contract with the american family . the man behind this wave of ago presented the sumey case before the washington state legislature and headed the washington state chapter of the moral majority . everal months ago , propping his head in his hands and leaning forward on his desk at the home school legal defense association , a virginia-based organization he founded , farris explained why he is helping the parental rights movement . \" sheila sumey thought smoking marijuana and sleeping with her boyfriend was more important than obeying her parents , \" he says , \" and the state of washington agreed with her . \" when farris insists that parental rights legislation would have prevented tragedies like sumey 's , he sounds convinced . but an analysis of sumey 's case by howard davidson , head of the american bar association center on children and the law in washington , d.c. , reveals how carefully chosen the facts in sumey 's story are . according to davidson , state officials did not remove her from her home simply because she did not like her parents ' rules , but because her parents could n't prevent her from endangering herself parental rights proponents are publicizing . most are based on lawsuits brought by parents who , if the legislation were enacted , would stand a better chance of winning . one suit claims that a high school guidance counselor in georgia drove two teenagers to a clinic to obtain birth control without notifying their parents . another charges that , without parental permission , massachusetts high school students attended an aids assembly during which a comedian talked about masturbation . stripped of any nuance or complexity , these anecdotes are reduced to only a few supposedly shocking details that are easily rememberedand repeated . \" they tend to use a couple of cases involving either condom distribution or some kind of overly intrusive social service agency as if this is a major problem around the country , \" says reverend barry lynn , who , as head of americans united for separation of church and state , often debates parental rights activists . the legislation is \" designed to give parents , primarily conservative parents , veto power over anything in the curriculum that bothers them . \" lynn adds consider controversial encompasses almost everything outside the pvthaiorean theorem . \" lynn is part of a national , 66-member coalition . the membership-which includes the child welfare league of america , the national pta , and planned parenthoodranges from left wing to mainstream and reflects the widespread fear triggered by parental rights legislation . these critics charge that the legislation would give parents veto power over entire school curricula , making teaching even more onerous and dragging school systems into costly legal battles . they also maintain that it could threaten teenagers ' access to counseling , birth control , and abortion by stipulating that they must first obtain parental permission . and many fear that by making it easier for angry parents to file lawsuits , the legislation could deter teachers and social workers from reporting child abuse . inside of the people 's national headquarters in arlington , virginia , are three men , two women , and a fax machine . scattered about the office are newspaper clippings about parental rights , copies of the organization 's eightpage newsletter , and charts tracking the amendment 's status erken , of the people 's 33-year-old executive director , spoke earnestly about his organization and the event that sparked its founding : the 1992 feud in new york city over a proposed multicultural school curriculum that included the controversial book heather has two mommies . \" what struck a lot of people here in the beltway was that it was n't a bunch of rightwing christian folks , \" erken says . \" the revolt was really led from the bottom up . it was a coalition of these archie bunker whites and hispanics and african americans out in the boroughs , and they are probably relatively apolitical . but when it comes to their own kids , all of a sudden they go , wait a minute , these are my kids you 're feeding this stuff to . and you 're telling me my values do n't matter . ' a lot of people woke up nationally and said , whoa , there 's something going on out there . ' it strikes a chord across religious lines , racial lines , class lines , and party is far from fulfilled . from its inception , of the people 's leadership has been all white and virtually all male . the group boasts a five-member board with no women . however , it did pick a woman earlier this year to be its national cochair : betsy devos , chair of the michigan republican party and an amway heir . by now , erken has had a lot of experience defending his organization against the criticism that parental rights advocates are pushing this legislation as a way to seize control of school curricula . his defense ? \" if we had some kind of stealth agenda or only wanted some parents involved , the last thing we would do is try to put this language on a statewide ballot so everyone gets a crack at it . \" proponents are apparently unfazed by the possibility that liberals , who are notorious for being far less organized than conservatives , will seize on this legislation to promote their own agenda . t its heart , the parental rights movement is about frustration with the public education system . . parents of all political stripes can relate to stories of feeling powerless in the face of unresponsive teachers and administrators-whether they have gone to their child 's school to complain about math standards or condom distribution . with carefully crafted rhetoric , proponents of parental rights aim to widen their movement 's appeal and blur the distinction between curriculum politics and the quality of public education . this strategy is a shrewd one . nevertheless , there is little evidence so far that the movement has succeeded in attracting supporters from outside its core of conservative activists . despite their claims that parental rights are under assault nationwide , the movement 's leaders have no horror stories of their own to tell . \" to be honest , \" says of the people 's founder , jeffrey bell , \" i have n't had any bad experiences in the schools my children have attended . \" the father of four , bell sends his kids to parochial school . michael farris has nine children , seven of whom are school-age and taught at home by his wife . though is trampling parental rights , she says , \" i have not personally experienced it . \" she adds that she is \" fortunate enough \" to be able to send two of her four children to private school . the other two are home-schooled . for his part , greg erken is unmarried and has no children . so what exactly is driving the parental rights movement ? not just a desire to ban sex ed , but an obsession with preserving the \" traditional family . \" @entity-2 insists that the amendment is \" a statement that the family matters . \" he adds , \" maybe the husband and wife will look at each other across the breakfast table , reading about the parental rights amendment , and say , you know , maybe we ought to take a look at how we 're raising our children , how much time we spend with them , how much we sacrifice , and what our priorities are . \" ' ne thing both sides agree on is that the vaguely worded legislation would lead to a flurry of increase in litigation in the short term . \" parental rights critics argue that this increase in litigation would sap the already scarce resources of schools and child protection agencies . of the people 's amendment has yet to pass a single state legislature . despite kristol 's 1993 strategizing , parental rights has not emerged as a presidential campaign issue . and at press time , the colorado crowd is scrambling to get the 54,000 signatures needed for its ballot initiative . it is unlikely that the federal bill will reach the floor of either house of congress this year . slowing down the process is resistance from a surprising source : the national right to life committee , which insists that the bill , unless amended , could permit parents to coerce their pregnant daughters into aborting . though convincing voters that parents are a victimized group in need of special protections will be a hard sell , parental rights is a wily movement worth watching . ms. author affiliation jennifer gonnerman is a contributing writer at the \" village voice . \" \n",
      "{'##20363417136341': 1, 'Erken2777228': 2}\n"
     ]
    }
   ],
   "source": [
    "print(decode(sentences[300]))"
   ]
  },
  {
   "cell_type": "code",
   "execution_count": 63,
   "metadata": {},
   "outputs": [
    {
     "data": {
      "text/plain": [
       "0"
      ]
     },
     "execution_count": 63,
     "metadata": {},
     "output_type": "execute_result"
    }
   ],
   "source": [
    "oldId2id[935]"
   ]
  },
  {
   "cell_type": "code",
   "execution_count": 23,
   "metadata": {},
   "outputs": [
    {
     "name": "stdout",
     "output_type": "stream",
     "text": [
      "##UNK section : the mcdonald 's of fitness his goal : to single-handedly save the world 's women from obesity . with curves , he seems to be pulling it off . and he 's built a billion-dollar business along the way it 's just after 9 in the morning , and 375 people , nearly all of them women , sit at rows of tables in quiet anticipation . in front of each is a bottle of water , a thick loose-leaf binder , and a paper tent printed with their names and hometowns : boynton beach , florida ; kodiak , alaska ; libby , montana ; traralgon , australia ; martha 's vineyard ; san diego . the room 's walls are draped with large boxing match posters -- promoting contests like iron will vs . evil sofa , and will power vs . curly fries . a large neon sign of the logo for the women 's fitness club curves -- the company name , in purple cursive -- is mounted on the wall , casting a violet glow on the white metal weight machines that occupy a pride of place not only in ##UNK ##UNK ##UNK ##UNK ##UNK ##UNK ##UNK ##UNK ##UNK ##UNK of communities across the united states and , increasingly , the world . the event is called club camp , and each new franchisee of the fast-growing chain of gyms is required to attend . there are enough new franchisees that the company holds a club camp almost every month , including sessions in places like sydney and tokyo to accommodate the gym 's growing number of global franchisees . janell gilman , curves ' director of training , is first to take the stage . she delivers a few housekeeping remarks , then introduces the main event . \" get ready to welcome the man who has made this all possible , our ceo and founder , gary heavin ! \" a sea of pastel t-shirts and ponytails rise as one , applauding , cheering , flashing disposable and digital cameras . some of the franchisees wipe tears from their eyes , others execute a little dance . heavin takes the stage , smiling and waving . a 51-year-old texan with sandy , thinning hair and a blondish dose-clipped mustache , he 's wearing a lavender shirt ##UNK ##UNK ##UNK ##UNK ##UNK ##UNK ##UNK ##UNK ##UNK ##UNK slacks . he 's not pudgy , but he 's no hard-bodied jack la lanne either . he casually leans on a tall chair and begins . \" we 're going to make you masters of your own fate , \" heavin ( pronounced haven ) tells the crowd . \" i 'm going to tell you exactly what this job requires to be successful . if you follow my advice exactly , you will prosper . you ca n't screw this up ! but if you want to do it your own way , you 're going to have problems . this is an opportunity . people thank me for that opportunity , frequently . but i always say , ' look , all i did was figure out every wrong way to do this . ' i 've lost everything i owned , and that 's good news for you , because you do n't have to suffer and learn things the hard way . i 've done it for you . \" since its founding 14 years ago , curves has grown from one franchise to ##UNK ##UNK ##UNK ##UNK ##UNK ##UNK ##UNK ##UNK ##UNK ##UNK every 10 franchised fitness facilities in the united states , making it the nation 's largest fitness chain . curves can be found in 44 countries , and it 's the largest fitness chain in canada , ireland , mexico , and new zealand . there are four million curves members worldwide . curves international , the franchiser , is privately held and family-owned , and employs just over 100 people at its headquarters in woodway , texas , a suburb of waco . the company says it now has systemwide revenue in excess of $1 billion . but curves , heavin insists , is about more than just money . \" i personally ca n't influence the lives of women . i ca n't get them to go to the gym , watch their weight , and take care of themselves , \" he tells the crowd at club camp . \" but me and 10,000 of you , and the 30,000 employees you 'll hire ? together we can . in fact , i 'll share something with you that came out this past week . \" ##UNK ##UNK ##UNK ##UNK ##UNK ##UNK ##UNK ##UNK ##UNK ##UNK american medical association . between 2000 and 2004 , the survey found , the percentage of men that are obese increased , as did the percentage of children . but the percentage of women who are obese -- 33 percent -- remained flat . \" i believe that curves has single-handedly stopped the obesity rate in this country for women , \" he says . the room explodes with wild applause . it 's hard to say whether heavin is correct , but his claim is at least plausible . experts say that curves , which has persuaded millions of otherwise sedentary women to get to the gym , deserves some credit for making a dent in the obesity crisis . \" curves has arguably done more to get inactive women exercising than any other fitness trend or organization in the history of exercise , \" concluded a 2005 report from the american council on exercise . given that , and given the company 's rapid growth , it 's also hard not to take heavin seriously when he says that his goal for curves is to become \" ##UNK ##UNK ##UNK ##UNK ##UNK ##UNK ##UNK ##UNK ##UNK ##UNK as audacious as it sounds . already , there is one curves for every two mcdonald 's in the united states . curves gyms can be found in mini-malls and on country roads , in urban centers and suburban shopping plazas . walk into a typical club , pass an appointment desk , and you 'll see a dozen workout machines arranged in a circle . the machines use hydraulic resistance instead of stacked weights , so the faster you work , the heavier the resistance . the idea is to work fast enough to elevate your heart rate into the training zone . every 30 seconds , the fast-paced music that pumps through the club 's sound system is interrupted by a voice that instructs \" change stations now . \" you move from a resistance machine to a \" recovery station , \" where you are encouraged to \" move lively \" to keep your heart rate elevated . walk , jog in place , or do a little dance , as most do . in the center of the circuit , a curves employee encourages and ##UNK ##UNK ##UNK ##UNK ##UNK ##UNK ##UNK ##UNK ##UNK ##UNK to septuagenarians -- chat about their lives , their kids , their upcoming vacations . there are no mirrors and no men . go around the circuit twice , and you 're done . it takes just 30 minutes . membership starts at $29 a month . circuit training , of course , has been around for decades . but curves is very much unlike most fully loaded gyms with their banks of cardio machines , schedules of aerobics classes , personal trainers , spa services , juice bars , and other assorted bells and whistles . indeed , the idea for curves emerged from heavin 's experience running a traditional gym -- and then running it into the ground . as a child growing up in the mid-1960s , heavin dreamed of becoming a doctor . after graduating from sam houston high school in arlington , texas , heavin worked a variety of odd jobs -- a roughneck on oil rigs , longshoreman , waiter , truck driver -- while taking premed classes in colleges . his dream ended around the same time he ran out of ##UNK ##UNK ##UNK ##UNK ##UNK ##UNK ##UNK ##UNK ##UNK ##UNK david had a proposal : would gary like to manage a fitness center he was planning to purchase in houston ? with little to lose , heavin went for it . he was 20 years old and knew nothing about business , and the first year of running the gym was often terrifying . heavin struggled to find money to pay the gym 's electricity bill and often spent his nights on the floor of the facility 's daycare center . but in the process , he learned a few things about himself . first , he loved the fitness business . plus , he was a good salesperson , particularly when it came to dealing with women . he soon limited the gym 's membership to women only and named it women 's world of fitness . within a year , the club was doing well enough that the brothers decided to open another location . over the next six years , they opened another six more throughout south texas . \" by the time i was 26 , i had a $1 million financial statement , ##UNK ##UNK ##UNK ##UNK ##UNK ##UNK ##UNK ##UNK ##UNK ##UNK , women 's world of fitness had 14 locations and 50,000 members . heavin got a pilot 's license and flew himself from location to location , keeping an eye on his growing empire . then things started to fall apart . in retrospect , the problems were simple . \" i let my overhead increase beyond the capacity of the market , \" heavin says . women 's world of fitness clubs were big , which meant high rents . they also offered swimming pools , tanning beds , and kids ' programs . such costly amenities require a large membership base , but aside from houston , the gyms were mostly in smaller towns . desperate to bring in more money , heavin decided to open his clubs to men . \" it was logical , but it destroyed my women 's business , \" he says . indeed , it did n't take long for female customers to grow uncomfortable with the meat-market aspect of a coed gym and drift away . as the business faltered , heavin 's managers grew restless . \" i spent ##UNK ##UNK ##UNK ##UNK ##UNK ##UNK ##UNK ##UNK ##UNK ##UNK keep people disciplined and motivated , \" heavin says . in 1986 , about three years after opening its 14th location , women 's world of fitness was bankrupt . heavin lost his house , his airplane , and his cars , and was some $5 million dollars in debt . his wife divorced him . heavin lacked the money to pay alimony and in short order went from being a jet-setting entrepreneur to just another broke guy serving a three-month term in cameron county jail in brownsville . as often happens when people hit bottom , heavin turned to the bible for solace . he described the moment he became born again during a 2003 interview on pat robertson 's the 700 club . \" i finally got on my knees and said , ' god , i lived the first half of my life by my will , and it 's a mess . i 'm going to turn the rest of my life over to you . ' \" his religious beliefs gave him a new way to look at his mistakes -- not as failures ##UNK ##UNK ##UNK ##UNK ##UNK ##UNK ##UNK ##UNK ##UNK ##UNK the lord 's larger plan for gary heavin . heavin began putting his life back together . he found work selling fitness equipment and consulting with gym owners and settled into life with a new wife . heavin met diane piller during the waning days of his gym business . diane , who had model-perfect features and the physique of a lifelong fitness fanatic , worked in newspaper advertising . women 's world of fitness was not only one of her accounts , it was also the place she went to get her aerobics fix . the relationship grew as the business collapsed , and in 1990 , the couple married , just before gary went to jail . \" it 's kind of a neat thing that we married then because he knew i really loved him , \" she says . \" he did n't have a lot of material things . \" the couple soon began plotting their return to the fitness business . their new gym would be different . overhead would be kept as low as possible . rather than investing in every ##UNK ##UNK ##UNK ##UNK ##UNK ##UNK ##UNK ##UNK ##UNK ##UNK simple fitness circuit that would be quick and easy for members to complete . instead of operating as dose to 24-7 as possible , a common practice in the industry , the gym would close early . showers , de rigueur at most gyms , were also deemed expendable . and most important of all : it would be women only . diane came up with the name -- curves -- and sketched out a cursive logo on a piece of paper . if everything worked out , the heavins figured they 'd be able to earn about $100,000 a year . with $10,000 they 'd managed to scrape together , they opened the first curves in 1992 in harlingen , texas , where they lived , with diane as manager . it was immediately clear that the simple formula would work . the couple had estimated it would take 90 days to sell 100 memberships -- the amount they 'd need to break even . diane sold that amount in the first week alone . in 1994 , they opened a second club in mcallen , and it ##UNK ##UNK ##UNK ##UNK ##UNK ##UNK ##UNK ##UNK ##UNK ##UNK from his jailhouse religious awakening , the newfound success made perfect sense . \" it 's kind of like moses in the bible , \" he says . \" i spent 10 years in egypt , which was the old health club business . and then i spent 10 years in the desert ; i was a consultant , i was in the equipment business , i traveled around . and then at age 40 , it all just came together . everything we tried , worked . we entered into the promised land . \" by 1995 , the heavins had far exceeded their wildest dreams . \" we had two curves , a brand-new baby , and we were earning a quarter of a million a year , \" says gary . \" we were going to live happily ever after . \" then he had an epiphany . heavin was giving a talk on weight management to a group of women when he realized heft been scanning the crowd for the face of his mother , who had died when he was 13 . \" ##UNK ##UNK ##UNK ##UNK ##UNK ##UNK ##UNK ##UNK ##UNK ##UNK , \" he says . \" my two little brothers and i found her . it was a real traumatic experience . \" doris joy heavin had suffered from obesity , high blood pressure , and depression , all of which were treated with medication rather than the recommendation that she get more exercise . heavin grew furious when he thought about it . perhaps this explained why he wanted to be a doctor , why he enjoyed the fitness business so much . \" i had the epiphany that what my life had been about was healing women because of my mother , \" he says . \" and that was what my destiny was going to be . \" heavin would heal women before they got sick . curves would be the vehicle , and he needed to spread it as far and wide as possible . the question was how to do it . he did n't want to expand by opening more gyms and trusting strangers to manage them ; managers , he felt , had served him poorly at women 's world of fitness ##UNK ##UNK ##UNK ##UNK ##UNK ##UNK ##UNK ##UNK ##UNK ##UNK he told his wife . diane , who had come to enjoy her new lifestyle , thought the move was way too risky . \" i did n't feel like eating beans again , \" she says . gary understood her fears , but pressed his case . franchising , he said , made perfect business sense . \" i believe you can teach a manager to care enough to make a pretty good cup of coffee , \" heavin says . \" but it 's hard to make a manager care enough to run a fitness club . only an owner will care enough to do the job . \" there were spiritual concerns , as well . \" we 've been given this gift and if we do n't use it , it will be taken away , \" he told diane . he reminded her that they were required to use the gifts they had been given and to bless others as they 'd been blessed . after sleeping on it , diane came around . \" okay , \" she asked , \" how ##UNK ##UNK ##UNK ##UNK ##UNK ##UNK ##UNK ##UNK ##UNK ##UNK a thing about franchising . heavin turned to an acquaintance , gary findley , for advice . findley was vice president of franchise sales at the dwyer group , a well-established franchiser of residential services such as mr. rooter , glass doctor , and others , and was a fount of information . heavin ran a $250 ad in the paris news in paris , texas , and quickly sold his first franchise . after he sold his third franchise , heavin called findley . \" i 've got a little money coming in now , \" he said , \" and i can pay you to come onboard . \" findley became curves ' first employee and was soon named president . the early days of curves were far from glamorous . using heavin 's pickup truck and an open-bed trailer , the two garys would bring equipment to franchisees . they 'd scrape bugs off the machines before delivering them , and always carried white spray paint to cover up the dings and scratches that cropped up during transport . diane created marketing and training materials . ##UNK ##UNK ##UNK ##UNK ##UNK ##UNK ##UNK ##UNK ##UNK ##UNK bottles with the company 's logo . when the company decided to create a glossy magazine for members , heavin named it diane . from the outset , heavin was looking for a different kind of franchisee -- someone who was looking less for a business opportunity than for a mission . the typical franchiser , he says , \" looks for people . who want to run a business and tries to teach them passion . we 're looking for people with passion , and we 'll teach them how to run a business . \" so rather than plastering the franchise trades with ads like most franchisers , curves has found nearly all of its franchisees through word of mouth -- as often as not from its own membership base . many share heavin 's christian faith . franchisees are not required to have any background in entrepreneurship or experience in the fitness industry , but heavin says that the company is selective : applicants must display a willingness to work hard and , more important , have a passion to serve . amy and randy ##UNK ##UNK ##UNK ##UNK ##UNK ##UNK ##UNK ##UNK ##UNK ##UNK . amy joined a curves gym and now the couple , who are married , own one in batesville , arkansas . \" we like gary 's philosophy , \" says randy , \" and we like the idea that it 's for women 's health . \" adds amy : \" with curves , you 're one-on-one with people . at subway , you do have your regular people that come in and out , but you 're not affecting their health , and that 's really motivating to me , to be able to help other ladies like that . \" the simses also like the way curves handles financial matters . in most franchising arrangements , franchisees pay the franchiser a franchise fee at the outset ( at curves , the current fee is $39,900 ; opening a subway franchise , by comparison ; can cost more than double that amount ) , plus a percentage of sales , on a weekly or monthly basis . that 's how it worked at the simses ' subway franchises . \" the more you make , the more ##UNK ##UNK ##UNK ##UNK ##UNK ##UNK ##UNK ##UNK ##UNK ##UNK very , very frustrating . your hard work is paying off and you 're making money , but you 're also giving a lot of it to them . \" to heavin , this made no sense . not only does it serve as a kind of tax on successful franchisees , it creates bad blood between the franchisee and franchiser . \" you tend to become adversaries over the issue , \" heavin says . he decided to cap the monthly 5 percent royalty -- it 's currently $795 in the united states . \" if they do fantastic , bless ' em , \" heavin says . of course , the cap limits the income that curves international stands to get from franchisees . on the other hand , dubs that outgrow the royalty cap still provide additional revenue to curves through product sales . franchisees are required to purchase all of their curves t-shirts , water bottles , vitamin supplements , and so on from curves ; such products currently are a $25 million-a-year business . ( that business , a separate company called ideas in ##UNK ##UNK ##UNK ##UNK ##UNK ##UNK ##UNK ##UNK ##UNK ##UNK 's more , the royalty cap made it a cinch to attract new franchisees . \" the more money our franchisees would make , the happier they were , and they 'd shout about it , \" heavin says . and shout they did . in 1996 , there were 44 curves gyms . in 1997 , there were 247 . the heavins decided to move their headquarters from their home to a proper office . they rented two offices and soon added a third . the next year , the number of curves franchises doubled again , to 537 , and the heavins moved curves headquarters from harlingen to waco , to a low-slung building across the street from a waste-treatment facility . they had five employees and never thought they 'd outgrow that building . in 2000 , there were more than 1,200 franchises . in 2001 , curves doubled in size again . by 2004 , the company had more than 8,000 franchises , and curves moved again , to its current capacious headquarters : a rustic , ranchlike building in woodway , with working fireplaces ##UNK ##UNK ##UNK ##UNK ##UNK ##UNK ##UNK ##UNK ##UNK ##UNK cowboys taking aim at indians . heavin credits curves ' rapid growth to the low-overhead business model , which allows the company to open profitably in towns too small for other gyms . \" we created an efficient business model that could go where no one else could , \" he says . indeed , the average curves club today has only 400 members -- which , according to a formula the company has developed , is what a town with a population of about 10,000 can sustain . targeting smaller towns and cities had several strategic advantages . for one thing , it made it easier to attract members , because curves often was the only fitness option in town . it also made it easier to attract new franchisees : the territories were small enough that an enthusiastic curves member could open a gym one or two towns over without poaching business . the low-overhead model also meant that the buy-in for a franchisee was n't steep -- a little under $20,000 in those days , including the equipment . and franchising in out-of-the-way places gave ##UNK ##UNK ##UNK ##UNK ##UNK ##UNK ##UNK ##UNK ##UNK ##UNK largely hidden from rivals , which allowed the company to sell hundreds of franchises without arousing competition . marketing also proved easy . curves promised a fast-yet-effective workout , along with a sense of community with like-minded women . this promise was particularly attractive during the mid- to late 1990s . aging boomers were being urged by their doctors to spend more time at the gym . but few women are able to put this advice into practice : some 66 percent of women say they never get 10 minutes or more of any kind of vigorous physical activity a week , according to a 2004 report by the centers for disease control and prevention . what 's more , heavin 's frank talk about religiously inspired values could not have been timed better . not only were megachurches on the rise , but the family-friendly aspect of curves ownership -- hours that allow you to be home to have dinner with your family -- also had a strong appeal and stood in stark contrast with the around-the-clock service required by other franchisers . to be sure , ##UNK ##UNK ##UNK ##UNK ##UNK ##UNK ##UNK ##UNK ##UNK ##UNK , for example , news broke that the heavins had given generously to an anti-abortion group , sparking a moral dilemma for many pro-choice curves members . the issue even surfaced in the new york times magazine 's column the ethicist . the column 's author , randy cohen , suggested that pro-choice curves members who value their reproductive rights more than their figures should relinquish their memberships . very few members actually left , however , and curves continued its rapid growth . the numbers are indisputable . \" it took mcdonald 's 25 years to reach 6,000 locations . it took subway 26 years , \" says heavin . \" and it took us eight . \" back at club camp , heavin wraps up his remarks and opens the floor to questions from the franchisees . how can i inspire teamwork among my employees , one wants to know . will curves authorize a price increase anytime soon , asks another . then heavin gets this question from a franchisee in colorado : \" hi , gary . i know what you do for women is ##UNK ##UNK ##UNK ##UNK ##UNK ##UNK ##UNK ##UNK ##UNK ##UNK any testing in consumer markets ? i 've been asked this question by my own members . \" \" here 's the answer so you can tell your members , \" heavin replies . \" when hell freezes over . \" raising his voice to be heard over the applause and cheers , he explains himself . \" compared with women , men do n't seem to be that loyal . for five bucks off the dues , he 's going to go down the street . also , in a gym environment , men do n't bring their friends . when you 're sitting at a table with several people , does bob get up and say , ' come on , jim and john , let 's go the bathroom together ? ' men do n't work that way . \" after the laughter dies down , heavin turns somber . \" the men 's fitness business is a terrible place to go -- and i 've been there , by the way . will the curves equipment and physiology work for men ? sure . would ##UNK ##UNK ##UNK ##UNK ##UNK ##UNK ##UNK ##UNK ##UNK ##UNK constantly to do this . maybe someone else will figure out a smart way to do it . but we 're going to take care of the women ? he gets another robust round of applause . some ceos might at least take a moment to consider a brand extension idea offered repeatedly by franchisees and customers . but not heavin . \" when it comes to women 's fitness , just by sheer numbers , i 'm the world 's undisputed expert . i 'm the visionary , \" he says . \" we certainly get a lot of good ideas from members and franchisees . but the big ideas , they come primarily from me . \" he points to this fact : of the nearly 10,000 curves locations that have opened , only 300 have closed . of those , 200 have reopened successfully . the question , of course , is whether heavin 's faith in his own judgment , and the credence he puts in lessons learned from past mistakes , will continue to suffice as curves makes the transition from a fast-growing ##UNK ##UNK ##UNK ##UNK ##UNK ##UNK ##UNK ##UNK ##UNK ##UNK not everybody thinks so . gary findley , for example , began suggesting to heavin that with growth slowing -- the chain now opens about 1,000 new franchises a year -- the company needed to begin opening complementary businesses under the curves umbrella . \" in order for curves to maintain its spot ahead of the competition , it needs to provide some additional income opportunities for franchisees , \" he says . \" at some point , they 're going to reach their maximum income potential . \" heavin , on the other hand , was adamant about keeping the focus squarely on 30-minute circuit training for women . indeed , new franchisees are warned that if they deviate at all -- by adding , say , treadmills or tanning beds to their clubs -- they 'll be in violation of their franchise agreements and run the risk of losing their businesses . in 2004 , at the age of 43 , findley retired . his plan was to devote his time to a ministry for men , centered around hunting . but the retirement did n't last ##UNK ##UNK ##UNK ##UNK ##UNK ##UNK ##UNK ##UNK ##UNK ##UNK who noticed that a day spa next to her club was doing brisk business with her members . intrigued , he decided to invest in a membership-based day spa called facelogic , which has sold 29 locations in less than a year . it 's hard not to notice that this easily could have happened under the curves umbrella . findley remains close with heavin and his sister-in-law still holds an executive position at curves . but he thinks that heavin 's focus on what 's worked for curves in the past may impede the chain 's future growth . heavin sees little reason to change course . of the 41 franchise systems in the adult fitness sector , curves boasts a 40 percent market share . but 10 newcomers have emerged in the past two years -- a large number of newcomers , says darrell johnson , president of frandata , a franchise research consultancy in arlington , virginia . none of these newbies are likely to knock curves off its perch , says johnson . but collectively , they threaten to whittle away at the leader 's ##UNK ##UNK ##UNK ##UNK ##UNK ##UNK ##UNK ##UNK ##UNK ##UNK these new franchisers are slicing the market into ever smaller segments , appealing to upscale women , or women over 50 , or younger women . \" the fitness segment has moved from a one-size-fits-all model to a very specialized model , \" johnson says . consider cuts , a 30-minute fitness franchise for men that recently launched cuts women . many cuts women customers are former curves members who are sold on the idea of a 30-minute workout but are bored with curves ' routine and want something more intense , says john gennaro , founder of the franchise , which is based in clark , new jersey . with 90 locations and 15,000 members , cuts is puny compared with curves . but that does n't bother gennaro . he 's happy to let curves educate women about 30-minute fitness -- and even happier to provide an alternative when they grow restless . maturity has created other problems , as well . there are very few new territories available in the united states , so most new domestic franchisees are those who have purchased an existing ##UNK ##UNK ##UNK ##UNK ##UNK ##UNK ##UNK ##UNK ##UNK ##UNK . the average new club today costs about $40,000 ; a resale , $120,000 , and many new franchisees wind up borrowing heavily . curves recently created a department dedicated to the specific issues that crop up during the resale experience , but there are other operational issues to confront . the company has a ways to go before it truly can be considered the mcdonald 's of fitness , admits mike raymond , the company 's former director of marketing , who became president after findley stepped down . \" mcdonald 's has a well-defined management structure , well-defined methods of operation in different countries , with levels of autonomy worked out , and information technology systems , \" he says . \" we 're working toward that now . \" if any of this concerns heavin , you 'd be hard-pressed to notice . as confident as ever , he splits his time between his office and the new 6,000-square-foot home he and diane just built . it 's on a 1,000-acre , tree-studded ranch in crawford , not far from president bush 's spread . rustically ##UNK ##UNK ##UNK ##UNK ##UNK ##UNK ##UNK ##UNK ##UNK ##UNK \" it has two kitchens and plenty of plush , oversize furniture . out of sight from the main house are the smaller homes of many in the heavins ' extended family . gary 's brother paul lives in one . three others are occupied by diane 's parents ; her sister and niece ; and her brother and his family . like many large-scale compounds in the area , the ranch has a name : almost heaven . the couple belong to two nearby churches , highland baptist church in waco and mound cowboy church in gatesville , and are active in a number of philanthropic efforts . heavin plans to expand curves in two ways . the first is through a weight-management plan , the curves 6 week solution , which is designed to appeal to women who prefer dieting to exercise . the six-week course costs $69 and is taught by franchisees . the idea is to expose the dieters to the curves workout during their weekly classes , which will be held right in the club itself . heavin also is developing partnerships with health ##UNK ##UNK ##UNK ##UNK ##UNK ##UNK ##UNK ##UNK ##UNK ##UNK community in the united states . as a result , heavin says , the company is an ideal partner for insurers , which have begun boosting their wellness programs , including offering policyholders rebates if they regularly attend a gym . heavin estimates that eight million americans are eligible to have some or all of their curves memberships paid for by their health insurance . if even a fraction of those millions sign up , it could represent an enormous opportunity . and if it does n't ? sitting in his office with his cowboy boots up on his desk , heavin says this : \" for a lot of people in my position , the position defines who they are . for me , i was as happy flat broke as i am flying my learjet . i do n't define myself by my quarterly profits . i define myself as a child of god that 's been created in his image for eternity . if that becomes your defining image , there 's extraordinary power in it . \" he pauses for a minute . \" i ##UNK ##UNK ##UNK ##UNK ##UNK ##UNK ##UNK ##UNK ##UNK ##UNK ; i 'm going to wake up every day and do the right thing . and if i were to lose everything i own , i 'd just rebuild again . \" 10 questions for gary heavin what 's your favorite part of a typical day ? my favorite part of the day is when i wake up . i get my priorities in order by praying and reading my bible . it reminds me of what 's really important . what 's the least glamorous thing you do regularly in the line of duty ? dealing with all the problems that rise to the top . they 're usually simple misunderstandings that require my intervention . i apologize a lot . what skill would you most like to improve ? praising people . what makes for a good salesperson of your product ? . passion , personality , and pride . they must truly believe in what we are doing . they must enjoy people , and they must take pride in their work and do it well . if you could go back ##UNK ##UNK ##UNK ##UNK ##UNK ##UNK ##UNK ##UNK ##UNK ##UNK , what would it be ? i would go back and say \" i \" and \" me \" less , and \" us \" and \" we \" more . what part of your job would you gladly give up ? accounting . what 's the simplest thing you never learned to do ? laundry . who 's the smartest person you know ? ( and why ? ) that 's tough because we are all smart in different ways ; i do n't know anyone who is smart in more than a few areas . president bush has extraordinary people skills . zig ziglar understands motivation brilliantly . pat robertson understands faith and obedience . i know each of them and they are very smart men . who gives you the best advice about your business ? diane , my wife . what keeps you up at night ? . i can not think about work after 6 p.m. ; if i do , i 'm up all night , so i do n't , ever . almost heaven gary heavin opened ##UNK ##UNK ##UNK ##UNK ##UNK ##UNK ##UNK ##UNK ##UNK ##UNK diana , managed it . he now has 9,901 curves . happy campers every month , new franchisees attend curves ' club camp . \" you do n't have to suffer and learn the hard way , \" heavin told a recent gathering in waco . \" i 've done it for you . \" no frills overhead at curves is kept as low as possible . even showers are deemed expendable . back at the ranch heavin drives a new corvette , pilots a learjet 60 , and lives a stone 's throw from president bush . by alison stein wellner photographs by beth perkins contributing editor alison stein wellner wrote for the june issue about the art of apologizing . \n"
     ]
    }
   ],
   "source": [
    "new_s = [tuple(oldId2id[int(word)] for word in sentence if id2word[oldId2id[int(word)]] not in (\"<p>\", \"//\", \"@\") )for sentence in sentences]\n",
    "\n",
    "print(decode(new_s[250]))"
   ]
  },
  {
   "cell_type": "markdown",
   "metadata": {},
   "source": [
    "## 定义模型"
   ]
  },
  {
   "cell_type": "code",
   "execution_count": null,
   "metadata": {},
   "outputs": [],
   "source": [
    "model = Sequential()\n",
    "model.add(Embedding(128, input_shape=(MAX_WORD,)))\n",
    "model.add(Bidirectional(LSTM(50, return_sequence=True)))\n",
    "model.add(Bidirectional(LSTM(50)))\n",
    "model.add(Dense(WORD_OUT, activation=\"softmax\"))"
   ]
  },
  {
   "cell_type": "code",
   "execution_count": null,
   "metadata": {},
   "outputs": [],
   "source": [
    "np.save(\"\")"
   ]
  }
 ],
 "metadata": {
  "kernelspec": {
   "display_name": "Python 3",
   "language": "python",
   "name": "python3"
  },
  "language_info": {
   "codemirror_mode": {
    "name": "ipython",
    "version": 3
   },
   "file_extension": ".py",
   "mimetype": "text/x-python",
   "name": "python",
   "nbconvert_exporter": "python",
   "pygments_lexer": "ipython3",
   "version": "3.7.9"
  }
 },
 "nbformat": 4,
 "nbformat_minor": 4
}
