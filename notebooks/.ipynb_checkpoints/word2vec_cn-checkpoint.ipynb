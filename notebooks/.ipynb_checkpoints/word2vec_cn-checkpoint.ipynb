{
 "cells": [
  {
   "cell_type": "markdown",
   "metadata": {},
   "source": [
    "## 导入依赖\n",
    "干什么之前都先运行一下这个"
   ]
  },
  {
   "cell_type": "code",
   "execution_count": 3,
   "metadata": {
    "pycharm": {
     "name": "#%%\n"
    }
   },
   "outputs": [
    {
     "name": "stderr",
     "output_type": "stream",
     "text": [
      "Using TensorFlow backend.\n"
     ]
    }
   ],
   "source": [
    "import keras\n",
    "import tensorflow\n",
    "from keras.layers import Embedding, Dense, Input, Lambda\n",
    "from keras.models import Sequential, Model\n",
    "from tensorflow.keras import backend as K\n",
    "import jieba\n",
    "import json\n",
    "from matplotlib import pyplot as plt\n",
    "import numpy as np\n",
    "\n",
    "\n",
    "word_size = 128 #词向量维度\n",
    "window = 5 #窗口大小\n",
    "nb_negative = 16 #随机负采样的样本数\n",
    "min_count = 5 #频数少于min_count的词将会被抛弃\n",
    "nb_worker = 4 #读取数据的并发数\n",
    "nb_epoch = 2 #迭代次数，由于使用了adam，迭代次数1～2次效果就相当不错\n",
    "subsample_t = 1e-5 #词频大于subsample_t的词语，会被降采样，这是提高速度和词向量质量的有效方案\n",
    "nb_sentence_per_batch = 20"
   ]
  },
  {
   "cell_type": "markdown",
   "metadata": {},
   "source": [
    "## 处理数据"
   ]
  },
  {
   "cell_type": "markdown",
   "metadata": {},
   "source": [
    "#### 从npy读取数据"
   ]
  },
  {
   "cell_type": "code",
   "execution_count": 7,
   "metadata": {},
   "outputs": [
    {
     "name": "stdout",
     "output_type": "stream",
     "text": [
      "342975 10100 10100\n"
     ]
    }
   ],
   "source": [
    "word_freq = np.load(\"../data/word_freq2020_12_12_11_11.npy\", allow_pickle=True).tolist()\n",
    "sentences = np.load(\"../data/sentences.npy\", allow_pickle=True).tolist()\n",
    "lengths = np.load(\"../data/lengths.npy\", allow_pickle=True).tolist()\n",
    "print(len(word_freq), len(sentences), len(lengths))"
   ]
  },
  {
   "cell_type": "markdown",
   "metadata": {},
   "source": [
    "#### 数据预处理\n",
    "生成词频表\n",
    "定义过滤函数，过滤掉词频过低的的垃圾数据"
   ]
  },
  {
   "cell_type": "code",
   "execution_count": 13,
   "metadata": {
    "pycharm": {
     "name": "#%%\n"
    }
   },
   "outputs": [],
   "source": [
    "def preprocess(filename, data_dir, limit=500, start=0, record_length=50, args=[None, None, None]):\n",
    "    word_freq = args[0] or {}\n",
    "    lengths = args[1] or []\n",
    "    sentences = args[2] or []\n",
    "    with open(data_dir+filename) as f:\n",
    "        i = 0\n",
    "        print(\"[\", end=\"\")\n",
    "        while True:\n",
    "            i += 1\n",
    "            \n",
    "            # read line\n",
    "            line = f.readline()\n",
    "            if i <= start:\n",
    "                continue\n",
    "            if not line:\n",
    "                break\n",
    "            \n",
    "            # start process\n",
    "            j = json.loads(line)\n",
    "            content = j[\"content\"]\n",
    "            sentence = []\n",
    "            for word in jieba.cut(content):\n",
    "                sentence.append(word)\n",
    "                if word in word_freq:\n",
    "                    word_freq[word] += 1\n",
    "                    continue\n",
    "                word_freq[word] = 1\n",
    "            sentences.append(sentence)\n",
    "            \n",
    "            # output\n",
    "            if i % record_length == 0:\n",
    "                print(\">\", end=\"\")\n",
    "                lengths.append(len(filter(word_freq)))\n",
    "            if i >= limit:\n",
    "                break\n",
    "            \n",
    "    print(\"]\")\n",
    "    print(i)\n",
    "    return word_freq, sentences, lengths\n",
    "\n",
    "\n",
    "def filter(word_freq, threshold=5):\n",
    "    new_word_freq = {}\n",
    "    for key, val in word_freq.items():\n",
    "        if val < threshold:\n",
    "            continue\n",
    "        new_word_freq[key] = val\n",
    "    return new_word_freq\n"
   ]
  },
  {
   "cell_type": "code",
   "execution_count": 25,
   "metadata": {
    "scrolled": false
   },
   "outputs": [
    {
     "name": "stdout",
     "output_type": "stream",
     "text": [
      "[>>>>>>>>>>>>>>>>>>>>>>>>>>>>>>>>>>>>>>>>>>>>>>>>>>>>>>>>>>>>>>>>>>>>>>>>>>>>>>>>>>>>>>>>>>>>>>>>>>>>]\n",
      "30000\n"
     ]
    }
   ],
   "source": [
    "word_freq, sentences, lengths = preprocess(\"news2016zh_train.json\", r\"D:\\Data\\new2016zh\\\\\", 30000, 20000, record_length=100, args=[word_freq, sentences, lengths])"
   ]
  },
  {
   "cell_type": "code",
   "execution_count": 18,
   "metadata": {},
   "outputs": [
    {
     "name": "stdout",
     "output_type": "stream",
     "text": [
      "200\n",
      "20000\n",
      "[1869, 3570, 4853, 6035, 7674, 8906, 10572, 11462, 12734, 13791, 14523, 15621, 16424, 17437, 18298, 19061, 19934, 20665, 21414, 22126, 22827, 23678, 24548, 25203, 25855, 26363, 27217, 27821, 28645, 29408, 30041, 30594, 31082, 31705, 32227, 32847, 33367, 33912, 34532, 35090, 35701, 36251, 36852, 37415, 37974, 38538, 39162, 39591, 40017, 40504, 41175, 41621, 42215, 42706, 43168, 43753, 44149, 44586, 45081, 45506, 45944, 46343, 46714, 47224, 47797, 48510, 48918, 49480, 50042, 50415, 50876, 51255, 51699, 52189, 52646, 53025, 53457, 53845, 54534, 55012, 55477, 55925, 56321, 56694, 57098, 57486, 57909, 58319, 58701, 59230, 59616, 60040, 60401, 60758, 61139, 61585, 61909, 62284, 62616, 62921, 63379, 63682, 64036, 64440, 64768, 65211, 65570, 66002, 66428, 66810, 67246, 67637, 67992, 68343, 68693, 68998, 69365, 69779, 70151, 70443, 70717, 71092, 71563, 71874, 72268, 72566, 73081, 73458, 73820, 74118, 74441, 74760, 75044, 75341, 75582, 75971, 76280, 76668, 76959, 77393, 77747, 78025, 78328, 78716, 79082, 79384, 79694, 79974, 80300, 80653, 80961, 81318, 81595, 81864, 82179, 82497, 82755, 82999, 83325, 83604, 83901, 84219, 84499, 84837, 85140, 85400, 85711, 85992, 86276, 86557, 86904, 87188, 87548, 87875, 88180, 88421, 88709, 88917, 89194, 89526, 89783, 90005, 90343, 90574, 90821, 91157, 91466, 91704, 91936, 92246, 92568, 92867, 93120, 93401, 93633, 93858, 94136, 94396, 94710, 94955]\n"
     ]
    }
   ],
   "source": [
    "new_l = sentences[:100] + lengths[-100:]\n",
    "print(len(new_l))\n",
    "new_s = lengths[:10000] + sentences[100:]\n",
    "print(len(new_s))\n",
    "print(new_l)\n",
    "sentences = new_s\n",
    "lengths = new_l"
   ]
  },
  {
   "cell_type": "code",
   "execution_count": 11,
   "metadata": {
    "pycharm": {
     "name": "#%%\n"
    },
    "scrolled": true
   },
   "outputs": [
    {
     "name": "stdout",
     "output_type": "stream",
     "text": [
      "342975 200 20000\n"
     ]
    },
    {
     "data": {
      "text/plain": [
       "[<matplotlib.lines.Line2D at 0x1633e62ea08>]"
      ]
     },
     "execution_count": 11,
     "metadata": {},
     "output_type": "execute_result"
    },
    {
     "data": {
      "image/png": "[encoded data removed]",
      "text/plain": [
       "<Figure size 432x288 with 1 Axes>"
      ]
     },
     "metadata": {
      "needs_background": "light"
     },
     "output_type": "display_data"
    }
   ],
   "source": [
    "print(len(word_freq), len(new_l), len(new_s))\n",
    "plt.plot(range(len(new_l)), new_l)"
   ]
  },
  {
   "cell_type": "code",
   "execution_count": 14,
   "metadata": {
    "scrolled": true
   },
   "outputs": [
    {
     "data": {
      "text/plain": [
       "94955"
      ]
     },
     "execution_count": 14,
     "metadata": {},
     "output_type": "execute_result"
    }
   ],
   "source": [
    "filted = filter(word_freq)\n",
    "len(filted)"
   ]
  },
  {
   "cell_type": "markdown",
   "metadata": {},
   "source": [
    "#### 保存数据到npy"
   ]
  },
  {
   "cell_type": "code",
   "execution_count": 49,
   "metadata": {},
   "outputs": [],
   "source": [
    "np.save(\"../data/word_freq2020_12_12_11_11\", word_freq)"
   ]
  },
  {
   "cell_type": "code",
   "execution_count": 9,
   "metadata": {},
   "outputs": [
    {
     "name": "stderr",
     "output_type": "stream",
     "text": [
      "C:\\Users\\bjhan\\anaconda3\\envs\\tf-keras-GPU\\lib\\site-packages\\numpy\\core\\_asarray.py:136: VisibleDeprecationWarning: Creating an ndarray from ragged nested sequences (which is a list-or-tuple of lists-or-tuples-or ndarrays with different lengths or shapes) is deprecated. If you meant to do this, you must specify 'dtype=object' when creating the ndarray\n",
      "  return array(a, dtype, copy=False, order=order, subok=True)\n"
     ]
    }
   ],
   "source": [
    "np.save(\"../data/sentences1\", new_s)"
   ]
  },
  {
   "cell_type": "code",
   "execution_count": 10,
   "metadata": {},
   "outputs": [],
   "source": [
    "np.save(\"../data/lengths1\", new_l)"
   ]
  },
  {
   "cell_type": "markdown",
   "metadata": {},
   "source": [
    "#### 生成适合模型的数据"
   ]
  },
  {
   "cell_type": "code",
   "execution_count": 15,
   "metadata": {},
   "outputs": [],
   "source": [
    "words = filter(word_freq, min_count)\n",
    "id2word = {i+1:j for i,j in enumerate(words)} #id到词语的映射，0表示UNK\n",
    "word2id = {j:i for i,j in id2word.items()} #词语到id的映射\n",
    "nb_word = len(words)+1 #总词数（算上填充符号0）\n",
    "\n",
    "\n",
    "total = sum(words.values())\n",
    "subsamples = {i:j/total for i,j in words.items() if j/total > subsample_t}\n",
    "subsamples = {i:subsample_t/j+(subsample_t/j)**0.5 for i,j in subsamples.items()} #这个降采样公式，是按照word2vec的源码来的\n",
    "subsamples = {word2id[i]:j for i,j in subsamples.items() if j < 1.} #降采样表\n",
    "\n",
    "\n",
    "def data_generator(): #训练数据生成器\n",
    "    while True:\n",
    "        x,y = [],[]\n",
    "        _ = 0\n",
    "        for d in sentences:\n",
    "            d = [0]*window + [word2id[w] for w in d if w in word2id] + [0]*window\n",
    "            r = np.random.random(len(d))\n",
    "            for i in range(window, len(d)-window):\n",
    "                if d[i] in subsamples and r[i] > subsamples[d[i]]: #满足降采样条件的直接跳过\n",
    "                    continue\n",
    "                x.append(d[i-window:i]+d[i+1:i+1+window])\n",
    "                y.append([d[i]])\n",
    "            _ += 1\n",
    "            if _ == nb_sentence_per_batch:\n",
    "                x,y = np.array(x),np.array(y)\n",
    "                z = np.zeros((len(x), 1))\n",
    "                yield [x,y],z\n",
    "                x,y = [],[]\n",
    "                _ = 0"
   ]
  },
  {
   "cell_type": "markdown",
   "metadata": {},
   "source": [
    "## 建模"
   ]
  },
  {
   "cell_type": "code",
   "execution_count": 16,
   "metadata": {
    "scrolled": false
   },
   "outputs": [],
   "source": [
    "\n",
    "#CBOW输入\n",
    "input_words = Input(shape=(window*2,), dtype='int32')\n",
    "input_vecs = Embedding(nb_word, word_size, name='word2vec')(input_words)\n",
    "input_vecs_sum = Lambda(lambda x: K.sum(x, axis=1))(input_vecs) #CBOW模型，直接将上下文词向量求和\n",
    "\n",
    "#构造随机负样本，与目标组成抽样\n",
    "target_word = Input(shape=(1,), dtype='int32')\n",
    "negatives = Lambda(lambda x: K.random_uniform((K.shape(x)[0], nb_negative), 0, nb_word, 'int32'))(target_word)\n",
    "samples = Lambda(lambda x: K.concatenate(x))([target_word,negatives]) #构造抽样，负样本随机抽。负样本也可能抽到正样本，但概率小。\n",
    "\n",
    "#只在抽样内做Dense和softmax\n",
    "softmax_weights = Embedding(nb_word, word_size, name='W')(samples)\n",
    "softmax_biases = Embedding(nb_word, 1, name='b')(samples)\n",
    "softmax = Lambda(lambda x: \n",
    "                    K.softmax((K.batch_dot(x[0], K.expand_dims(x[1],2))+x[2])[:,:,0])\n",
    "                )([softmax_weights,input_vecs_sum,softmax_biases]) #用Embedding层存参数，用K后端实现矩阵乘法，以此复现Dense层的功能\n",
    "\n",
    "#留意到，我们构造抽样时，把目标放在了第一位，也就是说，softmax的目标id总是0，这可以从data_generator中的z变量的写法可以看出\n",
    "\n",
    "model = Model(inputs=[input_words,target_word], outputs=softmax)\n",
    "model.compile(loss='sparse_categorical_crossentropy', optimizer='adam', metrics=['accuracy'])\n",
    "#请留意用的是sparse_categorical_crossentropy而不是categorical_crossentropy\n"
   ]
  },
  {
   "cell_type": "code",
   "execution_count": 19,
   "metadata": {},
   "outputs": [
    {
     "name": "stdout",
     "output_type": "stream",
     "text": [
      "Epoch 1/2\n",
      " - 37s - loss: 1.7660 - accuracy: 0.4840\n",
      "Epoch 2/2\n",
      " - 38s - loss: 1.1916 - accuracy: 0.6360\n"
     ]
    },
    {
     "data": {
      "text/plain": [
       "<keras.callbacks.callbacks.History at 0x16335b205c8>"
      ]
     },
     "execution_count": 19,
     "metadata": {},
     "output_type": "execute_result"
    }
   ],
   "source": [
    "model.fit_generator(data_generator(), \n",
    "                    steps_per_epoch=len(sentences)/nb_sentence_per_batch, \n",
    "                    epochs=nb_epoch,\n",
    "                    verbose=2\n",
    "                   )"
   ]
  },
  {
   "cell_type": "markdown",
   "metadata": {},
   "source": [
    "## 验证"
   ]
  },
  {
   "cell_type": "markdown",
   "metadata": {},
   "source": [
    "#### 查找最相似的词"
   ]
  },
  {
   "cell_type": "code",
   "execution_count": 21,
   "metadata": {},
   "outputs": [
    {
     "data": {
      "text/plain": [
       "0            (科学, 1.0)\n",
       "1    (人才培养, 0.7749549)\n",
       "2      (培养, 0.7676824)\n",
       "3     (特长, 0.76727307)\n",
       "4      (育人, 0.7666237)\n",
       "5     (实践, 0.75691146)\n",
       "6       (教学, 0.753793)\n",
       "7     (素质, 0.75365543)\n",
       "8     (与时俱进, 0.747921)\n",
       "9     (学术, 0.74788046)\n",
       "dtype: object"
      ]
     },
     "execution_count": 21,
     "metadata": {},
     "output_type": "execute_result"
    }
   ],
   "source": [
    "#通过词语相似度，检查我们的词向量是不是靠谱的\n",
    "embeddings = model.get_weights()[0]\n",
    "normalized_embeddings = embeddings / (embeddings**2).sum(axis=1).reshape((-1,1))**0.5\n",
    "\n",
    "def most_similar(w):\n",
    "    v = normalized_embeddings[word2id[w]]\n",
    "    sims = np.dot(normalized_embeddings, v)\n",
    "    sort = sims.argsort()[::-1]\n",
    "    sort = sort[sort > 0]\n",
    "    return [(id2word[i],sims[i]) for i in sort[:10]]\n",
    "\n",
    "import pandas as pd\n",
    "pd.Series(most_similar(u'科学'))"
   ]
  },
  {
   "cell_type": "markdown",
   "metadata": {},
   "source": [
    "#### 保存模型"
   ]
  },
  {
   "cell_type": "code",
   "execution_count": null,
   "metadata": {},
   "outputs": [],
   "source": [
    "model.save_weights('../models/word2vec.model')"
   ]
  }
 ],
 "metadata": {
  "kernelspec": {
   "display_name": "Python 3",
   "language": "python",
   "name": "python3"
  },
  "language_info": {
   "codemirror_mode": {
    "name": "ipython",
    "version": 3
   },
   "file_extension": ".py",
   "mimetype": "text/x-python",
   "name": "python",
   "nbconvert_exporter": "python",
   "pygments_lexer": "ipython3",
   "version": "3.7.7"
  }
 },
 "nbformat": 4,
 "nbformat_minor": 4
}
